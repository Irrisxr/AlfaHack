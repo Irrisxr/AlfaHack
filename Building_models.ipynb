{
 "metadata": {
  "kernelspec": {
   "language": "python",
   "display_name": "Python 3",
   "name": "python3"
  },
  "language_info": {
   "name": "python",
   "version": "3.10.14",
   "mimetype": "text/x-python",
   "codemirror_mode": {
    "name": "ipython",
    "version": 3
   },
   "pygments_lexer": "ipython3",
   "nbconvert_exporter": "python",
   "file_extension": ".py"
  },
  "kaggle": {
   "accelerator": "nvidiaTeslaT4",
   "dataSources": [
    {
     "sourceId": 9873829,
     "sourceType": "datasetVersion",
     "datasetId": 6001388
    },
    {
     "sourceId": 9874895,
     "sourceType": "datasetVersion",
     "datasetId": 6049079
    }
   ],
   "dockerImageVersionId": 30786,
   "isInternetEnabled": true,
   "language": "python",
   "sourceType": "notebook",
   "isGpuEnabled": true
  },
  "colab": {
   "provenance": []
  }
 },
 "nbformat_minor": 0,
 "nbformat": 4,
 "cells": [
  {
   "cell_type": "code",
   "source": [
    "from catboost import CatBoostClassifier\n",
    "from xgboost import XGBClassifier\n",
    "\n",
    "import pandas as pd\n",
    "import numpy as np\n",
    "\n",
    "from sklearn.model_selection import StratifiedKFold, train_test_split\n",
    "from sklearn.metrics import roc_auc_score\n",
    "\n",
    "import gc\n",
    "import time\n",
    "import json\n",
    "from tqdm import tqdm\n",
    "\n",
    "gc.enable()"
   ],
   "metadata": {
    "execution": {
     "iopub.status.busy": "2024-11-12T10:56:30.284820Z",
     "iopub.execute_input": "2024-11-12T10:56:30.285608Z",
     "iopub.status.idle": "2024-11-12T10:56:31.981446Z",
     "shell.execute_reply.started": "2024-11-12T10:56:30.285562Z",
     "shell.execute_reply": "2024-11-12T10:56:31.980478Z"
    },
    "trusted": true,
    "id": "uuMckumZyzao"
   },
   "execution_count": null,
   "outputs": []
  },
  {
   "cell_type": "markdown",
   "source": [
    "### Считывание выбранных фичей"
   ],
   "metadata": {
    "id": "6slTl6GOyzaq"
   }
  },
  {
   "cell_type": "code",
   "source": [
    "with open('/kaggle/input/maindataset/ultra_mega_last_features.json') as f:\n",
    "    file = json.load(f)\n",
    "    features = file['features']\n",
    "    cat_cols = ['feature_133', 'feature_143', 'feature_166', 'feature_201', 'feature_209',\n",
    "                'feature_251', 'feature_253', 'feature_31', 'feature_382', 'feature_392',\n",
    "                'feature_423', 'feature_434', 'feature_449', 'feature_490', 'feature_80',\n",
    "                'feature_83', 'feature_92']"
   ],
   "metadata": {
    "id": "Y0-aDd2oyzas"
   },
   "execution_count": null,
   "outputs": []
  },
  {
   "cell_type": "markdown",
   "source": [
    "### Считывание всего датасета (для удобства мы создали сконкаченный датасет) с отобранными признаками"
   ],
   "metadata": {
    "id": "voYn1YavzDrW"
   }
  },
  {
   "cell_type": "code",
   "source": [
    "dataset = pd.read_parquet('/kaggle/input/maindataset/Rawdata.parquet', columns=features + ['target'])\n",
    "\n",
    "X, y = dataset.drop(['target'], axis=1), dataset['target']\n",
    "X[cat_cols] = X[cat_cols].astype('int')\n",
    "\n",
    "del dataset\n",
    "gc.collect()"
   ],
   "metadata": {
    "execution": {
     "iopub.status.busy": "2024-11-12T10:56:33.627785Z",
     "iopub.execute_input": "2024-11-12T10:56:33.628309Z",
     "iopub.status.idle": "2024-11-12T10:57:20.268248Z",
     "shell.execute_reply.started": "2024-11-12T10:56:33.628274Z",
     "shell.execute_reply": "2024-11-12T10:57:20.267392Z"
    },
    "trusted": true,
    "id": "XcO6uL6Ayzat"
   },
   "execution_count": null,
   "outputs": []
  },
  {
   "cell_type": "markdown",
   "source": [
    "### Считывание тестовых данных"
   ],
   "metadata": {
    "id": "kRdet32Jza5O"
   }
  },
  {
   "cell_type": "code",
   "source": [
    "def loading_test(best_features, cat_features):\n",
    "    test_data = pd.read_csv('/kaggle/input/test/test_1.csv', usecols = best_features)\n",
    "\n",
    "    for i in range(2, 11):\n",
    "        new_test_data = pd.read_csv(f'/kaggle/input/test/test_{i}.csv', usecols = best_features)\n",
    "        test_data = pd.concat((test_data, new_test_data)).reset_index(drop = True)\n",
    "        del new_test_data\n",
    "\n",
    "    test_data[cat_features] = test_data[cat_features].astype('category', copy = False)\n",
    "    return test_data\n",
    "\n",
    "test = loading_test(X.columns, cat_cols)\n",
    "test = test[X.columns]\n",
    "test[cat_cols] = test[cat_cols].astype('int')\n",
    "gc.collect()"
   ],
   "metadata": {
    "execution": {
     "iopub.status.busy": "2024-11-12T10:57:23.957317Z",
     "iopub.execute_input": "2024-11-12T10:57:23.957603Z",
     "iopub.status.idle": "2024-11-12T10:57:23.965347Z",
     "shell.execute_reply.started": "2024-11-12T10:57:23.957569Z",
     "shell.execute_reply": "2024-11-12T10:57:23.964607Z"
    },
    "trusted": true,
    "id": "MVMjh016yzau"
   },
   "execution_count": null,
   "outputs": []
  },
  {
   "cell_type": "markdown",
   "source": [
    "## Модели"
   ],
   "metadata": {
    "id": "zcUT1tJqyzav"
   }
  },
  {
   "cell_type": "code",
   "source": [
    "predictions = []"
   ],
   "metadata": {
    "execution": {
     "iopub.status.busy": "2024-11-13T15:51:52.615712Z",
     "iopub.execute_input": "2024-11-13T15:51:52.616074Z",
     "iopub.status.idle": "2024-11-13T15:51:52.620216Z",
     "shell.execute_reply.started": "2024-11-13T15:51:52.616036Z",
     "shell.execute_reply": "2024-11-13T15:51:52.619275Z"
    },
    "trusted": true,
    "id": "Qcke5iEByzav"
   },
   "execution_count": null,
   "outputs": []
  },
  {
   "cell_type": "markdown",
   "source": [
    "### CatBoost"
   ],
   "metadata": {
    "id": "1pOnlpr1yzaw"
   }
  },
  {
   "cell_type": "markdown",
   "source": [
    "Данные параметры были выбранны в ручную, основывась на метрике на валидации"
   ],
   "metadata": {
    "id": "9FL6VHAVzmAy"
   }
  },
  {
   "cell_type": "code",
   "source": [
    "catboost_params = {'iterations': 3000,\n",
    "          'task_type': 'GPU',\n",
    "          'depth': 7,\n",
    "          'learning_rate': .035,\n",
    "          'early_stopping_rounds': 150,\n",
    "          'grow_policy' : 'Lossguide',\n",
    "          'verbose': 500,\n",
    "          'l2_leaf_reg': 4.5,\n",
    "          'eval_metric': 'AUC',\n",
    "          'bagging_temperature': .5,\n",
    "          'bootstrap_type': 'Bayesian',\n",
    "          'min_data_in_leaf': 1700,\n",
    "          'max_leaves': 6500,\n",
    "          'loss_function': 'CrossEntropy',\n",
    "          'random_strength': 20,\n",
    "          'gpu_ram_part' : 0.9,\n",
    "         }"
   ],
   "metadata": {
    "execution": {
     "iopub.status.busy": "2024-11-12T11:00:47.725998Z",
     "iopub.execute_input": "2024-11-12T11:00:47.726731Z",
     "iopub.status.idle": "2024-11-12T11:00:47.733298Z",
     "shell.execute_reply.started": "2024-11-12T11:00:47.726688Z",
     "shell.execute_reply": "2024-11-12T11:00:47.732249Z"
    },
    "trusted": true,
    "id": "AcxKKjBAyzax"
   },
   "execution_count": null,
   "outputs": []
  },
  {
   "cell_type": "markdown",
   "source": [
    "##### Обучение 10 кэтбустов с одинаковыми параметрами и разными random_state, для уменьшения дисперсии предсказаний, большей стабильности модели"
   ],
   "metadata": {
    "id": "fuTB06LMyzax"
   }
  },
  {
   "cell_type": "code",
   "source": [
    "random_states = [777, 13, 42, 333, 4378, 1, 2389, 98, 76, 121]\n",
    "predictions_catboost = []\n",
    "for i in random_states:\n",
    "    catboost_params['random_state'] = i\n",
    "    model = CatBoostClassifier(**catboost_params)\n",
    "    model.fit(X,\n",
    "              y,\n",
    "             cat_features=cat_cols)\n",
    "    predictions_catboost.append(model.predict_proba(test)[:, 1])\n",
    "del model\n",
    "gc.collect()"
   ],
   "metadata": {
    "execution": {
     "iopub.status.busy": "2024-11-12T11:03:46.247567Z",
     "iopub.execute_input": "2024-11-12T11:03:46.248251Z",
     "iopub.status.idle": "2024-11-12T11:56:07.717897Z",
     "shell.execute_reply.started": "2024-11-12T11:03:46.248211Z",
     "shell.execute_reply": "2024-11-12T11:56:07.716587Z"
    },
    "trusted": true,
    "id": "urZwHklWyzay",
    "outputId": "c6e9c7f1-7022-4657-cf1e-305e0fee349b"
   },
   "execution_count": null,
   "outputs": [
    {
     "name": "stderr",
     "text": "Default metric period is 5 because AUC is/are not implemented for GPU\n",
     "output_type": "stream"
    },
    {
     "name": "stdout",
     "text": "0:\ttotal: 185ms\tremaining: 6m 10s\n500:\ttotal: 1m 11s\tremaining: 3m 34s\n1000:\ttotal: 2m 14s\tremaining: 2m 14s\n1500:\ttotal: 3m 15s\tremaining: 1m 5s\n1999:\ttotal: 4m 16s\tremaining: 0us\n",
     "output_type": "stream"
    },
    {
     "name": "stderr",
     "text": "Default metric period is 5 because AUC is/are not implemented for GPU\n",
     "output_type": "stream"
    },
    {
     "name": "stdout",
     "text": "0:\ttotal: 182ms\tremaining: 6m 3s\n500:\ttotal: 1m 11s\tremaining: 3m 32s\n1000:\ttotal: 2m 12s\tremaining: 2m 12s\n1500:\ttotal: 3m 10s\tremaining: 1m 3s\n1999:\ttotal: 4m 8s\tremaining: 0us\n",
     "output_type": "stream"
    },
    {
     "name": "stderr",
     "text": "Default metric period is 5 because AUC is/are not implemented for GPU\n",
     "output_type": "stream"
    },
    {
     "name": "stdout",
     "text": "0:\ttotal: 186ms\tremaining: 6m 11s\n500:\ttotal: 1m 11s\tremaining: 3m 32s\n1000:\ttotal: 2m 12s\tremaining: 2m 11s\n1500:\ttotal: 3m 13s\tremaining: 1m 4s\n1999:\ttotal: 4m 13s\tremaining: 0us\n",
     "output_type": "stream"
    },
    {
     "name": "stderr",
     "text": "Default metric period is 5 because AUC is/are not implemented for GPU\n",
     "output_type": "stream"
    },
    {
     "name": "stdout",
     "text": "0:\ttotal: 173ms\tremaining: 5m 46s\n500:\ttotal: 1m 12s\tremaining: 3m 37s\n1000:\ttotal: 2m 13s\tremaining: 2m 13s\n1500:\ttotal: 3m 15s\tremaining: 1m 4s\n1999:\ttotal: 4m 14s\tremaining: 0us\n",
     "output_type": "stream"
    },
    {
     "name": "stderr",
     "text": "Default metric period is 5 because AUC is/are not implemented for GPU\n",
     "output_type": "stream"
    },
    {
     "name": "stdout",
     "text": "0:\ttotal: 166ms\tremaining: 5m 31s\n500:\ttotal: 1m 12s\tremaining: 3m 37s\n1000:\ttotal: 2m 12s\tremaining: 2m 12s\n1500:\ttotal: 3m 12s\tremaining: 1m 4s\n1999:\ttotal: 4m 14s\tremaining: 0us\n",
     "output_type": "stream"
    },
    {
     "name": "stderr",
     "text": "Default metric period is 5 because AUC is/are not implemented for GPU\n",
     "output_type": "stream"
    },
    {
     "name": "stdout",
     "text": "0:\ttotal: 186ms\tremaining: 6m 11s\n500:\ttotal: 1m 12s\tremaining: 3m 37s\n1000:\ttotal: 2m 15s\tremaining: 2m 15s\n1500:\ttotal: 3m 18s\tremaining: 1m 6s\n1999:\ttotal: 4m 21s\tremaining: 0us\n",
     "output_type": "stream"
    },
    {
     "name": "stderr",
     "text": "Default metric period is 5 because AUC is/are not implemented for GPU\n",
     "output_type": "stream"
    },
    {
     "name": "stdout",
     "text": "0:\ttotal: 186ms\tremaining: 6m 12s\n500:\ttotal: 1m 11s\tremaining: 3m 33s\n1000:\ttotal: 2m 12s\tremaining: 2m 12s\n1500:\ttotal: 3m 13s\tremaining: 1m 4s\n1999:\ttotal: 4m 15s\tremaining: 0us\n",
     "output_type": "stream"
    },
    {
     "name": "stderr",
     "text": "Default metric period is 5 because AUC is/are not implemented for GPU\n",
     "output_type": "stream"
    },
    {
     "name": "stdout",
     "text": "0:\ttotal: 185ms\tremaining: 6m 10s\n500:\ttotal: 1m 9s\tremaining: 3m 28s\n1000:\ttotal: 2m 10s\tremaining: 2m 10s\n1500:\ttotal: 3m 9s\tremaining: 1m 3s\n1999:\ttotal: 4m 7s\tremaining: 0us\n",
     "output_type": "stream"
    },
    {
     "name": "stderr",
     "text": "Default metric period is 5 because AUC is/are not implemented for GPU\n",
     "output_type": "stream"
    },
    {
     "name": "stdout",
     "text": "0:\ttotal: 180ms\tremaining: 6m\n500:\ttotal: 1m 9s\tremaining: 3m 28s\n1000:\ttotal: 2m 10s\tremaining: 2m 10s\n1500:\ttotal: 3m 9s\tremaining: 1m 2s\n1999:\ttotal: 4m 7s\tremaining: 0us\n",
     "output_type": "stream"
    },
    {
     "name": "stderr",
     "text": "Default metric period is 5 because AUC is/are not implemented for GPU\n",
     "output_type": "stream"
    },
    {
     "name": "stdout",
     "text": "0:\ttotal: 181ms\tremaining: 6m 1s\n500:\ttotal: 1m 14s\tremaining: 3m 42s\n1000:\ttotal: 2m 15s\tremaining: 2m 15s\n1500:\ttotal: 3m 14s\tremaining: 1m 4s\n1999:\ttotal: 4m 14s\tremaining: 0us\n",
     "output_type": "stream"
    }
   ]
  },
  {
   "cell_type": "markdown",
   "source": [
    "##### Усреднение предсказаний 10 моделей"
   ],
   "metadata": {
    "id": "-ydxtSqvyzay"
   }
  },
  {
   "cell_type": "code",
   "source": [
    "predictions.append(np.mean(predictions_catboost, axis=0))"
   ],
   "metadata": {
    "execution": {
     "iopub.status.busy": "2024-11-12T07:24:38.655592Z",
     "iopub.execute_input": "2024-11-12T07:24:38.655982Z",
     "iopub.status.idle": "2024-11-12T07:24:38.764932Z",
     "shell.execute_reply.started": "2024-11-12T07:24:38.655938Z",
     "shell.execute_reply": "2024-11-12T07:24:38.763903Z"
    },
    "trusted": true,
    "id": "W8LZOqklyzaz",
    "outputId": "9482d6a9-d8f4-4f63-86be-379b90500e3d"
   },
   "execution_count": null,
   "outputs": [
    {
     "execution_count": 19,
     "output_type": "execute_result",
     "data": {
      "text/plain": "0"
     },
     "metadata": {}
    }
   ]
  },
  {
   "cell_type": "markdown",
   "source": [
    "#### XGBoost"
   ],
   "metadata": {
    "id": "4-Vt97ftyzaz"
   }
  },
  {
   "cell_type": "code",
   "source": [
    "X[cat_cols] = X[cat_cols].astype('category')\n",
    "test[cat_cols] = test[cat_cols].astype('category')\n",
    "predictions_xgboost = []\n",
    "gc.collect()"
   ],
   "metadata": {
    "id": "K_afXTs1yzaz"
   },
   "execution_count": null,
   "outputs": []
  },
  {
   "cell_type": "code",
   "source": [
    "# Параметры моделей были выбраны вручную: Мы хотели усреднить предсказания \"недообученной\", \"переобученной\" и \"средней\" моделей\n",
    "xgb_params_1 = { #train 0.8944 test 0.8629\n",
    "    'n_estimators': 2000,\n",
    "    'learning_rate':0.03,\n",
    "    'max_depth': 8,\n",
    "    'use_label_encoder':False,\n",
    "    'enable_categorical':True,\n",
    "    'eval_metric':'auc',\n",
    "    'tree_method':'hist',\n",
    "    'device':'cuda',\n",
    "    'reg_lambda': 11,\n",
    "    'reg_alpha': 30,\n",
    "    'max_bin': 1000,\n",
    "    'max_leaves': 80,\n",
    "    'subsample': 0.8,\n",
    "    'sampling_method': 'uniform',\n",
    "    'random_state': 42,\n",
    "    'max_delta_step': 6,\n",
    "    'min_child_weight': 5\n",
    "}\n",
    "\n",
    "xgb_params_2 = { # Train ROC AUC: 0.9329 | Test ROC AUC: 0.8652\n",
    "    'n_estimators': 3000,\n",
    "    'learning_rate':0.03,\n",
    "    'max_depth': 9,\n",
    "    'max_delta_step' : 6,\n",
    "    'use_label_encoder':False,\n",
    "    'enable_categorical':True,\n",
    "    'eval_metric':'auc',\n",
    "    'tree_method':'hist',\n",
    "    'device':'cuda',\n",
    "    'reg_lambda': 8,\n",
    "    'reg_alpha': 20,\n",
    "    'max_bin': 1000,\n",
    "    'max_leaves': 6500,\n",
    "    'subsample': 0.8,\n",
    "    'min_child_weight' : 5,\n",
    "    'sampling_method': 'uniform',\n",
    "    'random_state': 42,\n",
    "}\n",
    "\n",
    "xgb_params_3 = { # Train ROC AUC: 0.9166 | Test ROC AUC: 0.8642\n",
    "    'n_estimators': 2700,\n",
    "    'learning_rate':0.03,\n",
    "    'max_depth': 7,\n",
    "    'use_label_encoder':False,\n",
    "    'enable_categorical':True,\n",
    "    'eval_metric':'auc',\n",
    "    'tree_method':'hist',\n",
    "    'device':'cuda',\n",
    "    'reg_lambda': 8,\n",
    "    'reg_alpha': 8,\n",
    "    'max_bin': 500,\n",
    "    'max_leaves': 6500,\n",
    "    'subsample': 0.8,\n",
    "    'sampling_method': 'uniform',\n",
    "    'random_state': 42,\n",
    "}"
   ],
   "metadata": {
    "execution": {
     "iopub.status.busy": "2024-11-12T07:29:38.005291Z",
     "iopub.execute_input": "2024-11-12T07:29:38.005733Z",
     "iopub.status.idle": "2024-11-12T07:29:38.011835Z",
     "shell.execute_reply.started": "2024-11-12T07:29:38.005696Z",
     "shell.execute_reply": "2024-11-12T07:29:38.010801Z"
    },
    "trusted": true,
    "id": "3eOipZd_yza0"
   },
   "execution_count": null,
   "outputs": []
  },
  {
   "cell_type": "code",
   "source": [
    "model1 = XGBClassifier(**xgb_params_1)\n",
    "model1.fit(X, y)\n",
    "predictions_xgboost.append(model1.predict_proba(test)[:, 1])\n",
    "del model1\n",
    "gc.collect()"
   ],
   "metadata": {
    "execution": {
     "iopub.status.busy": "2024-11-12T07:29:48.428667Z",
     "iopub.execute_input": "2024-11-12T07:29:48.429068Z",
     "iopub.status.idle": "2024-11-12T07:43:28.682500Z",
     "shell.execute_reply.started": "2024-11-12T07:29:48.429034Z",
     "shell.execute_reply": "2024-11-12T07:43:28.681466Z"
    },
    "trusted": true,
    "id": "Aq850GAqyza0",
    "outputId": "45946050-28a8-480d-c0eb-3ff1a9be4a0b"
   },
   "execution_count": null,
   "outputs": [
    {
     "name": "stderr",
     "text": "/opt/conda/lib/python3.10/site-packages/xgboost/core.py:160: UserWarning: [07:43:23] WARNING: /workspace/src/common/error_msg.cc:58: Falling back to prediction using DMatrix due to mismatched devices. This might lead to higher memory usage and slower performance. XGBoost is running on: cuda:0, while the input data is on: cpu.\nPotential solutions:\n- Use a data structure that matches the device ordinal in the booster.\n- Set the device for booster before call to inplace_predict.\n\nThis warning will only be shown once.\n\n  warnings.warn(smsg, UserWarning)\n",
     "output_type": "stream"
    },
    {
     "execution_count": 30,
     "output_type": "execute_result",
     "data": {
      "text/plain": "13"
     },
     "metadata": {}
    }
   ]
  },
  {
   "cell_type": "code",
   "source": [
    "model2 = XGBClassifier(**xgb_params_2)\n",
    "model2.fit(X, y, verbose=100)\n",
    "predictions_xgboost.append(model2.predict_proba(test)[:, 1])\n",
    "del model2\n",
    "gc.collect()"
   ],
   "metadata": {
    "execution": {
     "iopub.status.busy": "2024-11-12T07:43:28.684084Z",
     "iopub.execute_input": "2024-11-12T07:43:28.684461Z",
     "iopub.status.idle": "2024-11-12T08:09:59.906876Z",
     "shell.execute_reply.started": "2024-11-12T07:43:28.684427Z",
     "shell.execute_reply": "2024-11-12T08:09:59.905932Z"
    },
    "trusted": true,
    "id": "Wd_rci1hyza0",
    "outputId": "e07ef573-0a04-4fb9-ffe7-7d7a6e377864"
   },
   "execution_count": null,
   "outputs": [
    {
     "execution_count": 31,
     "output_type": "execute_result",
     "data": {
      "text/plain": "13"
     },
     "metadata": {}
    }
   ]
  },
  {
   "cell_type": "code",
   "source": [
    "model3 = XGBClassifier(**xgb_params_3)\n",
    "model3.fit(X, y, verbose=100)\n",
    "predictions_xgboost.append(model3.predict_proba(test)[:, 1])\n",
    "del model3\n",
    "gc.collect()"
   ],
   "metadata": {
    "execution": {
     "iopub.status.busy": "2024-11-12T08:09:59.908147Z",
     "iopub.execute_input": "2024-11-12T08:09:59.908505Z",
     "iopub.status.idle": "2024-11-12T08:22:13.303020Z",
     "shell.execute_reply.started": "2024-11-12T08:09:59.908454Z",
     "shell.execute_reply": "2024-11-12T08:22:13.302077Z"
    },
    "trusted": true,
    "id": "w4OgmR-Eyza1",
    "outputId": "0b7bcafc-d1a5-4818-b69e-f96b8bb6032f"
   },
   "execution_count": null,
   "outputs": [
    {
     "execution_count": 32,
     "output_type": "execute_result",
     "data": {
      "text/plain": "13"
     },
     "metadata": {}
    }
   ]
  },
  {
   "cell_type": "markdown",
   "source": [
    "##### Усреднение предсказаний 3 моделей"
   ],
   "metadata": {
    "id": "7S3-uqGDyza1"
   }
  },
  {
   "cell_type": "code",
   "source": [
    "predictions.append(np.mean(predictions_xgboost, axis=0))"
   ],
   "metadata": {
    "id": "sbWcRLANyza1"
   },
   "execution_count": null,
   "outputs": []
  },
  {
   "cell_type": "markdown",
   "source": [
    "### Результат"
   ],
   "metadata": {
    "id": "D8yoVjGvyza2"
   }
  },
  {
   "cell_type": "markdown",
   "source": [
    "##### Усреднение 10 catboost + 3 xgboost"
   ],
   "metadata": {
    "id": "ZwSeokdFyza2"
   }
  },
  {
   "cell_type": "code",
   "source": [
    "final_prediction = np.mean(predictions, axis=0)"
   ],
   "metadata": {
    "id": "L5tlpkTCyza2"
   },
   "execution_count": null,
   "outputs": []
  },
  {
   "cell_type": "markdown",
   "source": [
    "### Итоговый Сабмит"
   ],
   "metadata": {
    "id": "gEdxhwZ83JaL"
   }
  },
  {
   "cell_type": "code",
   "source": [
    "submission = pd.DataFrame()\n",
    "submission['id'] = np.arange(4490468, 4490468 + 509532)\n",
    "submission['target'] = final_prediction\n",
    "submission.to_csv('submission.csv', index = False)"
   ],
   "metadata": {
    "id": "qj1DdQQIyza2"
   },
   "execution_count": null,
   "outputs": []
  }
 ]
}
