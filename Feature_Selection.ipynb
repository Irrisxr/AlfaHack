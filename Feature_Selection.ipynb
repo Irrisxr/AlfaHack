{
  "metadata": {
    "kernelspec": {
      "language": "python",
      "display_name": "Python 3",
      "name": "python3"
    },
    "language_info": {
      "name": "python",
      "version": "3.10.14",
      "mimetype": "text/x-python",
      "codemirror_mode": {
        "name": "ipython",
        "version": 3
      },
      "pygments_lexer": "ipython3",
      "nbconvert_exporter": "python",
      "file_extension": ".py"
    },
    "kaggle": {
      "accelerator": "nvidiaTeslaT4",
      "dataSources": [
        {
          "sourceId": 9827739,
          "sourceType": "datasetVersion",
          "datasetId": 6027070
        },
        {
          "sourceId": 9827804,
          "sourceType": "datasetVersion",
          "datasetId": 6027119
        },
        {
          "sourceId": 9847228,
          "sourceType": "datasetVersion",
          "datasetId": 6041936
        },
        {
          "sourceId": 9864355,
          "sourceType": "datasetVersion",
          "datasetId": 6054604
        }
      ],
      "dockerImageVersionId": 30787,
      "isInternetEnabled": true,
      "language": "python",
      "sourceType": "notebook",
      "isGpuEnabled": true
    },
    "colab": {
      "provenance": []
    }
  },
  "nbformat_minor": 0,
  "nbformat": 4,
  "cells": [
    {
      "cell_type": "code",
      "source": [
        "# This Python 3 environment comes with many helpful analytics libraries installed\n",
        "# It is defined by the kaggle/python Docker image: https://github.com/kaggle/docker-python\n",
        "# For example, here's several helpful packages to load\n",
        "\n",
        "import numpy as np # linear algebra\n",
        "import pandas as pd # data processing, CSV file I/O (e.g. pd.read_csv)\n",
        "\n",
        "\n",
        "# Input data files are available in the read-only \"../input/\" directory\n",
        "# For example, running this (by clicking run or pressing Shift+Enter) will list all files under the input directory\n",
        "\n",
        "import os\n",
        "files = []\n",
        "for dirname, _, filenames in os.walk('/kaggle/input/alfahack/train'):\n",
        "    for filename in filenames:\n",
        "        files.append(os.path.join(dirname, filename))\n",
        "\n",
        "files_test = []\n",
        "for dirname, _, filenames in os.walk('/kaggle/input/alfahack/test'):\n",
        "    for filename in filenames:\n",
        "        files_test.append(os.path.join(dirname, filename))\n",
        "\n",
        "# You can write up to 20GB to the current directory (/kaggle/working/) that gets preserved as output when you create a version using \"Save & Run All\"\n",
        "# You can also write temporary files to /kaggle/temp/, but they won't be saved outside of the current session"
      ],
      "metadata": {
        "_uuid": "8f2839f25d086af736a60e9eeb907d3b93b6e0e5",
        "_cell_guid": "b1076dfc-b9ad-4769-8c92-a6c4dae69d19",
        "trusted": true,
        "execution": {
          "iopub.status.busy": "2024-11-13T17:10:13.926154Z",
          "iopub.execute_input": "2024-11-13T17:10:13.926582Z",
          "iopub.status.idle": "2024-11-13T17:10:19.787099Z",
          "shell.execute_reply.started": "2024-11-13T17:10:13.926542Z",
          "shell.execute_reply": "2024-11-13T17:10:19.786298Z"
        },
        "id": "DCM7VoTQw99-"
      },
      "outputs": [],
      "execution_count": null
    },
    {
      "cell_type": "code",
      "source": [
        "from catboost import CatBoostClassifier\n",
        "\n",
        "import json\n",
        "\n",
        "from sklearn.model_selection import train_test_split\n",
        "from sklearn.utils.class_weight import compute_class_weight\n",
        "\n",
        "import tqdm.notebook as tqdm\n",
        "import gc"
      ],
      "metadata": {
        "trusted": true,
        "id": "mk7rrZiow9-A"
      },
      "outputs": [],
      "execution_count": null
    },
    {
      "cell_type": "markdown",
      "source": [
        "### Скачивание категориальных признаков; Категориальными мы считаем признаки, значения которых были целочисленными в датасете"
      ],
      "metadata": {
        "id": "2CxIbauXw9-B"
      }
    },
    {
      "cell_type": "code",
      "source": [
        "# Загружаем json файл с категориальными фичами\n",
        "with open('/kaggle/input/features-with-logit/features.json', 'r') as file:\n",
        "    fe = json.load(file)\n",
        "\n",
        "cat_features = fe['cat_features']"
      ],
      "metadata": {
        "trusted": true,
        "id": "84EZUy23w9-D"
      },
      "outputs": [],
      "execution_count": null
    },
    {
      "cell_type": "markdown",
      "source": [
        "### Скачивание датасета"
      ],
      "metadata": {
        "id": "R2Kk66MTw9-F"
      }
    },
    {
      "cell_type": "code",
      "source": [
        "# Функция для создания датасета из половины всего датасета\n",
        "def create_dataset(files):\n",
        "\n",
        "    X = pd.DataFrame()\n",
        "    y = pd.DataFrame()\n",
        "\n",
        "    for file in files:\n",
        "        df = pd.read_csv(file).drop(columns=['id', 'smpl'])\n",
        "        print(file)\n",
        "\n",
        "        # train_size взяли 0.5, потому что это максимальный размер, который вмещает оперативная память ноутбука kaggle\n",
        "        X_train, X_test, y_train, y_test = train_test_split(df.drop(columns=['target']), df['target'],\n",
        "                                                            random_state = 42, stratify=df['target'], train_size=0.5)\n",
        "        print('сплитанулось')\n",
        "\n",
        "        # Удаляем для очистки памяти\n",
        "        del X_train, y_train, df\n",
        "        gc.collect()\n",
        "\n",
        "        # Объединяем в один DataFrame\n",
        "        X_test = pd.DataFrame(X_test)\n",
        "        y_test = pd.DataFrame(y_test)\n",
        "\n",
        "        X = pd.concat((X, X_test)).reset_index(drop=True)\n",
        "        y = pd.concat((y, y_test)).reset_index(drop=True)\n",
        "        print('concat')\n",
        "        print()\n",
        "\n",
        "        # Удаляем для очистки памяти\n",
        "        del X_test, y_test\n",
        "        gc.collect()\n",
        "\n",
        "    return X, y"
      ],
      "metadata": {
        "trusted": true,
        "id": "xeQHiaEPw9-F"
      },
      "outputs": [],
      "execution_count": null
    },
    {
      "cell_type": "code",
      "source": [
        "# Создаем датасет и переопределяем тип категориальных фичей на int\n",
        "X, y = create_dataset(files)\n",
        "X[cat_features] = X[cat_features].astype('int', copy=False)"
      ],
      "metadata": {
        "trusted": true,
        "id": "YDzxBpgkw9-G"
      },
      "outputs": [],
      "execution_count": null
    },
    {
      "cell_type": "code",
      "source": [
        "# Делаем train test split и удаляем весь датасет для очистки памяти\n",
        "X_train, X_test, y_train, y_test = train_test_split(X, y, random_state=42, stratify=y, train_size=0.8)\n",
        "del X, y"
      ],
      "metadata": {
        "trusted": true,
        "id": "OpERFiNlw9-H"
      },
      "outputs": [],
      "execution_count": null
    },
    {
      "cell_type": "markdown",
      "source": [
        "### CatBoost feature selection"
      ],
      "metadata": {
        "id": "lDtz7pDWw9-I"
      }
    },
    {
      "cell_type": "code",
      "source": [
        "# Взяли стандартные параметры для CatBoostClassifier и выделили 200 лучших фичей\n",
        "params = {'task_type': 'GPU',\n",
        "          'early_stopping_rounds': 150,\n",
        "          'verbose': 100,\n",
        "          'eval_metric': 'AUC',\n",
        "          'random_state': 42,\n",
        "          'cat_features': cat_features}\n",
        "\n",
        "clf = CatBoostClassifier(**params)\n",
        "summary = clf.select_features(X_train,\n",
        "                              y_train,\n",
        "                              eval_set=(X_test, y_test),\n",
        "                              features_for_select=X_train.columns,\n",
        "                              num_features_to_select=200,\n",
        "                              train_final_model=True,\n",
        "                              steps=10)"
      ],
      "metadata": {
        "trusted": true,
        "execution": {
          "iopub.status.busy": "2024-11-10T14:08:39.169600Z",
          "iopub.execute_input": "2024-11-10T14:08:39.169990Z",
          "iopub.status.idle": "2024-11-10T15:50:32.177520Z",
          "shell.execute_reply.started": "2024-11-10T14:08:39.169953Z",
          "shell.execute_reply": "2024-11-10T15:50:32.176465Z"
        },
        "id": "wsLk0qQEw9-I",
        "outputId": "809eb98d-1524-4b1f-cb42-3a0665cd62f8"
      },
      "outputs": [
        {
          "name": "stdout",
          "text": "Learning rate set to 0.037662\nStep #1 out of 10\n",
          "output_type": "stream"
        },
        {
          "name": "stderr",
          "text": "Default metric period is 5 because AUC is/are not implemented for GPU\nCatBoost is using more CPU RAM (20.8GiB) than the limit (10.6GiB)\nCatBoost is using more CPU RAM (20.8GiB) than the limit (10.6GiB)\n",
          "output_type": "stream"
        },
        {
          "name": "stdout",
          "text": "0:\ttest: 0.6977261\tbest: 0.6977261 (0)\ttotal: 564ms\tremaining: 9m 23s\n100:\ttest: 0.8264193\tbest: 0.8264193 (100)\ttotal: 36.2s\tremaining: 5m 21s\n200:\ttest: 0.8357592\tbest: 0.8357592 (200)\ttotal: 1m 12s\tremaining: 4m 48s\n300:\ttest: 0.8400043\tbest: 0.8400043 (300)\ttotal: 1m 48s\tremaining: 4m 12s\n400:\ttest: 0.8425313\tbest: 0.8425313 (400)\ttotal: 2m 25s\tremaining: 3m 36s\n500:\ttest: 0.8440770\tbest: 0.8440770 (500)\ttotal: 3m\tremaining: 2m 59s\n600:\ttest: 0.8451619\tbest: 0.8451619 (600)\ttotal: 3m 35s\tremaining: 2m 23s\n700:\ttest: 0.8460172\tbest: 0.8460172 (700)\ttotal: 4m 10s\tremaining: 1m 46s\n800:\ttest: 0.8467764\tbest: 0.8467764 (800)\ttotal: 4m 45s\tremaining: 1m 10s\n900:\ttest: 0.8473043\tbest: 0.8473043 (900)\ttotal: 5m 19s\tremaining: 35.1s\n999:\ttest: 0.8477837\tbest: 0.8477837 (999)\ttotal: 5m 53s\tremaining: 0us\nbestTest = 0.8477836847\nbestIteration = 999\nFeature #491 eliminated\nFeature #20 eliminated\nFeature #351 eliminated\nFeature #272 eliminated\nFeature #430 eliminated\nFeature #357 eliminated\nFeature #485 eliminated\nFeature #329 eliminated\nFeature #308 eliminated\nFeature #415 eliminated\nFeature #369 eliminated\nFeature #257 eliminated\nFeature #353 eliminated\nFeature #383 eliminated\nFeature #279 eliminated\nFeature #111 eliminated\nFeature #326 eliminated\nFeature #161 eliminated\nFeature #6 eliminated\nFeature #240 eliminated\nFeature #36 eliminated\nFeature #45 eliminated\nFeature #168 eliminated\nFeature #108 eliminated\nFeature #484 eliminated\nFeature #332 eliminated\nFeature #27 eliminated\nFeature #321 eliminated\nFeature #92 eliminated\nFeature #51 eliminated\nFeature #26 eliminated\nFeature #101 eliminated\nFeature #499 eliminated\nFeature #291 eliminated\nFeature #428 eliminated\nFeature #478 eliminated\nFeature #498 eliminated\nFeature #12 eliminated\nFeature #115 eliminated\nFeature #470 eliminated\nFeature #424 eliminated\nFeature #277 eliminated\nFeature #276 eliminated\nFeature #162 eliminated\nStep #2 out of 10\n",
          "output_type": "stream"
        },
        {
          "name": "stderr",
          "text": "CatBoost is using more CPU RAM (22.6GiB) than the limit (8.79GiB)\nCatBoost is using more CPU RAM (22.6GiB) than the limit (8.79GiB)\n",
          "output_type": "stream"
        },
        {
          "name": "stdout",
          "text": "0:\ttest: 0.7006655\tbest: 0.7006655 (0)\ttotal: 404ms\tremaining: 6m 43s\n100:\ttest: 0.8267429\tbest: 0.8267429 (100)\ttotal: 36.2s\tremaining: 5m 22s\n200:\ttest: 0.8360713\tbest: 0.8360713 (200)\ttotal: 1m 12s\tremaining: 4m 49s\n300:\ttest: 0.8401382\tbest: 0.8401382 (300)\ttotal: 1m 49s\tremaining: 4m 13s\n400:\ttest: 0.8427116\tbest: 0.8427116 (400)\ttotal: 2m 24s\tremaining: 3m 36s\n500:\ttest: 0.8442312\tbest: 0.8442312 (500)\ttotal: 2m 59s\tremaining: 2m 59s\n600:\ttest: 0.8452795\tbest: 0.8452795 (600)\ttotal: 3m 34s\tremaining: 2m 22s\n700:\ttest: 0.8460791\tbest: 0.8460791 (700)\ttotal: 4m 9s\tremaining: 1m 46s\n800:\ttest: 0.8468171\tbest: 0.8468171 (800)\ttotal: 4m 44s\tremaining: 1m 10s\n900:\ttest: 0.8473736\tbest: 0.8473737 (899)\ttotal: 5m 18s\tremaining: 35s\n999:\ttest: 0.8479019\tbest: 0.8479019 (999)\ttotal: 5m 53s\tremaining: 0us\nbestTest = 0.8479019403\nbestIteration = 999\nFeature #63 eliminated\nFeature #384 eliminated\nFeature #110 eliminated\nFeature #452 eliminated\nFeature #473 eliminated\nFeature #114 eliminated\nFeature #268 eliminated\nFeature #236 eliminated\nFeature #214 eliminated\nFeature #31 eliminated\nFeature #40 eliminated\nFeature #38 eliminated\nFeature #265 eliminated\nFeature #403 eliminated\nFeature #53 eliminated\nFeature #449 eliminated\nFeature #486 eliminated\nFeature #354 eliminated\nFeature #356 eliminated\nFeature #266 eliminated\nFeature #19 eliminated\nFeature #337 eliminated\nFeature #327 eliminated\nFeature #319 eliminated\nFeature #459 eliminated\nFeature #436 eliminated\nFeature #396 eliminated\nFeature #399 eliminated\nFeature #209 eliminated\nFeature #297 eliminated\nFeature #124 eliminated\nFeature #303 eliminated\nFeature #62 eliminated\nFeature #366 eliminated\nFeature #278 eliminated\nFeature #439 eliminated\nFeature #376 eliminated\nFeature #300 eliminated\nFeature #445 eliminated\nFeature #139 eliminated\nStep #3 out of 10\n",
          "output_type": "stream"
        },
        {
          "name": "stderr",
          "text": "CatBoost is using more CPU RAM (22.6GiB) than the limit (8.72GiB)\nCatBoost is using more CPU RAM (22.6GiB) than the limit (8.72GiB)\n",
          "output_type": "stream"
        },
        {
          "name": "stdout",
          "text": "0:\ttest: 0.7006655\tbest: 0.7006655 (0)\ttotal: 377ms\tremaining: 6m 16s\n100:\ttest: 0.8264144\tbest: 0.8264144 (100)\ttotal: 33.8s\tremaining: 5m 1s\n200:\ttest: 0.8356929\tbest: 0.8356929 (200)\ttotal: 1m 7s\tremaining: 4m 29s\n300:\ttest: 0.8400804\tbest: 0.8400804 (300)\ttotal: 1m 41s\tremaining: 3m 55s\n400:\ttest: 0.8424966\tbest: 0.8424966 (400)\ttotal: 2m 14s\tremaining: 3m 20s\n500:\ttest: 0.8440036\tbest: 0.8440036 (500)\ttotal: 2m 46s\tremaining: 2m 46s\n600:\ttest: 0.8451912\tbest: 0.8451912 (600)\ttotal: 3m 19s\tremaining: 2m 12s\n700:\ttest: 0.8460714\tbest: 0.8460714 (700)\ttotal: 3m 51s\tremaining: 1m 38s\n800:\ttest: 0.8468059\tbest: 0.8468059 (800)\ttotal: 4m 24s\tremaining: 1m 5s\n900:\ttest: 0.8473954\tbest: 0.8473954 (900)\ttotal: 4m 56s\tremaining: 32.6s\n999:\ttest: 0.8479049\tbest: 0.8479049 (999)\ttotal: 5m 28s\tremaining: 0us\nbestTest = 0.8479048908\nbestIteration = 999\nFeature #158 eliminated\nFeature #221 eliminated\nFeature #413 eliminated\nFeature #367 eliminated\nFeature #35 eliminated\nFeature #66 eliminated\nFeature #432 eliminated\nFeature #117 eliminated\nFeature #477 eliminated\nFeature #492 eliminated\nFeature #69 eliminated\nFeature #71 eliminated\nFeature #437 eliminated\nFeature #242 eliminated\nFeature #39 eliminated\nFeature #136 eliminated\nFeature #412 eliminated\nFeature #202 eliminated\nFeature #126 eliminated\nFeature #206 eliminated\nFeature #392 eliminated\nFeature #286 eliminated\nFeature #267 eliminated\nFeature #418 eliminated\nFeature #338 eliminated\nFeature #191 eliminated\nFeature #29 eliminated\nFeature #419 eliminated\nFeature #180 eliminated\nFeature #25 eliminated\nFeature #192 eliminated\nFeature #345 eliminated\nFeature #400 eliminated\nFeature #388 eliminated\nFeature #16 eliminated\nFeature #441 eliminated\nStep #4 out of 10\n",
          "output_type": "stream"
        },
        {
          "name": "stderr",
          "text": "CatBoost is using more CPU RAM (22.6GiB) than the limit (8.72GiB)\nCatBoost is using more CPU RAM (22.6GiB) than the limit (8.72GiB)\n",
          "output_type": "stream"
        },
        {
          "name": "stdout",
          "text": "0:\ttest: 0.6978785\tbest: 0.6978785 (0)\ttotal: 350ms\tremaining: 5m 50s\n100:\ttest: 0.8266344\tbest: 0.8266344 (100)\ttotal: 33.6s\tremaining: 4m 59s\n200:\ttest: 0.8357168\tbest: 0.8357168 (200)\ttotal: 1m 7s\tremaining: 4m 27s\n300:\ttest: 0.8400982\tbest: 0.8400982 (300)\ttotal: 1m 41s\tremaining: 3m 54s\n400:\ttest: 0.8427174\tbest: 0.8427174 (400)\ttotal: 2m 13s\tremaining: 3m 20s\n500:\ttest: 0.8441893\tbest: 0.8441893 (500)\ttotal: 2m 46s\tremaining: 2m 45s\n600:\ttest: 0.8452868\tbest: 0.8452868 (600)\ttotal: 3m 18s\tremaining: 2m 11s\n700:\ttest: 0.8461957\tbest: 0.8461957 (700)\ttotal: 3m 50s\tremaining: 1m 38s\n800:\ttest: 0.8470513\tbest: 0.8470513 (800)\ttotal: 4m 22s\tremaining: 1m 5s\n900:\ttest: 0.8475927\tbest: 0.8475927 (900)\ttotal: 4m 54s\tremaining: 32.4s\n999:\ttest: 0.8481097\tbest: 0.8481097 (999)\ttotal: 5m 26s\tremaining: 0us\nbestTest = 0.8481096625\nbestIteration = 999\nFeature #159 eliminated\nFeature #88 eliminated\nFeature #186 eliminated\nFeature #421 eliminated\nFeature #234 eliminated\nFeature #435 eliminated\nFeature #390 eliminated\nFeature #292 eliminated\nFeature #287 eliminated\nFeature #402 eliminated\nFeature #350 eliminated\nFeature #94 eliminated\nFeature #474 eliminated\nFeature #318 eliminated\nFeature #274 eliminated\nFeature #215 eliminated\nFeature #280 eliminated\nFeature #106 eliminated\nFeature #323 eliminated\nFeature #2 eliminated\nFeature #216 eliminated\nFeature #77 eliminated\nFeature #218 eliminated\nFeature #24 eliminated\nFeature #294 eliminated\nFeature #255 eliminated\nFeature #225 eliminated\nFeature #133 eliminated\nFeature #425 eliminated\nFeature #149 eliminated\nFeature #73 eliminated\nFeature #9 eliminated\nFeature #398 eliminated\nStep #5 out of 10\n",
          "output_type": "stream"
        },
        {
          "name": "stderr",
          "text": "CatBoost is using more CPU RAM (22.6GiB) than the limit (8.72GiB)\nCatBoost is using more CPU RAM (22.6GiB) than the limit (8.72GiB)\n",
          "output_type": "stream"
        },
        {
          "name": "stdout",
          "text": "0:\ttest: 0.6978785\tbest: 0.6978785 (0)\ttotal: 349ms\tremaining: 5m 48s\n100:\ttest: 0.8266318\tbest: 0.8266318 (100)\ttotal: 33.2s\tremaining: 4m 55s\n200:\ttest: 0.8358274\tbest: 0.8358274 (200)\ttotal: 1m 6s\tremaining: 4m 24s\n300:\ttest: 0.8402327\tbest: 0.8402327 (300)\ttotal: 1m 40s\tremaining: 3m 52s\n400:\ttest: 0.8426190\tbest: 0.8426190 (400)\ttotal: 2m 12s\tremaining: 3m 17s\n500:\ttest: 0.8441675\tbest: 0.8441675 (500)\ttotal: 2m 44s\tremaining: 2m 44s\n600:\ttest: 0.8453173\tbest: 0.8453173 (600)\ttotal: 3m 16s\tremaining: 2m 10s\n700:\ttest: 0.8461435\tbest: 0.8461435 (700)\ttotal: 3m 48s\tremaining: 1m 37s\n800:\ttest: 0.8468602\tbest: 0.8468602 (800)\ttotal: 4m 20s\tremaining: 1m 4s\n900:\ttest: 0.8474756\tbest: 0.8474756 (900)\ttotal: 4m 51s\tremaining: 32.1s\n999:\ttest: 0.8479716\tbest: 0.8479716 (999)\ttotal: 5m 23s\tremaining: 0us\nbestTest = 0.847971648\nbestIteration = 999\nFeature #223 eliminated\nFeature #313 eliminated\nFeature #395 eliminated\nFeature #119 eliminated\nFeature #251 eliminated\nFeature #444 eliminated\nFeature #1 eliminated\nFeature #187 eliminated\nFeature #307 eliminated\nFeature #83 eliminated\nFeature #463 eliminated\nFeature #358 eliminated\nFeature #129 eliminated\nFeature #325 eliminated\nFeature #293 eliminated\nFeature #87 eliminated\nFeature #170 eliminated\nFeature #316 eliminated\nFeature #476 eliminated\nFeature #37 eliminated\nFeature #70 eliminated\nFeature #414 eliminated\nFeature #406 eliminated\nFeature #397 eliminated\nFeature #57 eliminated\nFeature #5 eliminated\nFeature #21 eliminated\nFeature #90 eliminated\nFeature #154 eliminated\nFeature #183 eliminated\nFeature #285 eliminated\nStep #6 out of 10\n",
          "output_type": "stream"
        },
        {
          "name": "stderr",
          "text": "CatBoost is using more CPU RAM (22.6GiB) than the limit (8.72GiB)\nCatBoost is using more CPU RAM (22.6GiB) than the limit (8.72GiB)\n",
          "output_type": "stream"
        },
        {
          "name": "stdout",
          "text": "0:\ttest: 0.6978785\tbest: 0.6978785 (0)\ttotal: 342ms\tremaining: 5m 41s\n100:\ttest: 0.8264906\tbest: 0.8264906 (100)\ttotal: 32.9s\tremaining: 4m 53s\n200:\ttest: 0.8357668\tbest: 0.8357668 (200)\ttotal: 1m 6s\tremaining: 4m 22s\n300:\ttest: 0.8401083\tbest: 0.8401083 (300)\ttotal: 1m 39s\tremaining: 3m 51s\n400:\ttest: 0.8426537\tbest: 0.8426537 (400)\ttotal: 2m 11s\tremaining: 3m 17s\n500:\ttest: 0.8442470\tbest: 0.8442470 (500)\ttotal: 2m 43s\tremaining: 2m 43s\n600:\ttest: 0.8454361\tbest: 0.8454361 (600)\ttotal: 3m 15s\tremaining: 2m 10s\n700:\ttest: 0.8462910\tbest: 0.8462910 (700)\ttotal: 3m 47s\tremaining: 1m 36s\n800:\ttest: 0.8469826\tbest: 0.8469826 (800)\ttotal: 4m 19s\tremaining: 1m 4s\n900:\ttest: 0.8476602\tbest: 0.8476610 (899)\ttotal: 4m 50s\tremaining: 31.9s\n999:\ttest: 0.8481620\tbest: 0.8481620 (999)\ttotal: 5m 21s\tremaining: 0us\nbestTest = 0.8481619954\nbestIteration = 999\nFeature #188 eliminated\nFeature #89 eliminated\nFeature #175 eliminated\nFeature #76 eliminated\nFeature #394 eliminated\nFeature #259 eliminated\nFeature #122 eliminated\nFeature #78 eliminated\nFeature #446 eliminated\nFeature #23 eliminated\nFeature #134 eliminated\nFeature #467 eliminated\nFeature #15 eliminated\nFeature #226 eliminated\nFeature #95 eliminated\nFeature #14 eliminated\nFeature #301 eliminated\nFeature #98 eliminated\nFeature #22 eliminated\nFeature #48 eliminated\nFeature #93 eliminated\nFeature #84 eliminated\nFeature #195 eliminated\nFeature #462 eliminated\nFeature #312 eliminated\nFeature #228 eliminated\nFeature #109 eliminated\nStep #7 out of 10\n",
          "output_type": "stream"
        },
        {
          "name": "stderr",
          "text": "CatBoost is using more CPU RAM (22.6GiB) than the limit (8.72GiB)\nCatBoost is using more CPU RAM (22.6GiB) than the limit (8.72GiB)\n",
          "output_type": "stream"
        },
        {
          "name": "stdout",
          "text": "0:\ttest: 0.6996131\tbest: 0.6996131 (0)\ttotal: 345ms\tremaining: 5m 44s\n100:\ttest: 0.8265028\tbest: 0.8265028 (100)\ttotal: 32.8s\tremaining: 4m 52s\n200:\ttest: 0.8358750\tbest: 0.8358750 (200)\ttotal: 1m 6s\tremaining: 4m 22s\n300:\ttest: 0.8402419\tbest: 0.8402419 (300)\ttotal: 1m 39s\tremaining: 3m 50s\n400:\ttest: 0.8427222\tbest: 0.8427222 (400)\ttotal: 2m 11s\tremaining: 3m 16s\n500:\ttest: 0.8442866\tbest: 0.8442866 (500)\ttotal: 2m 43s\tremaining: 2m 43s\n600:\ttest: 0.8454144\tbest: 0.8454144 (600)\ttotal: 3m 15s\tremaining: 2m 9s\n700:\ttest: 0.8463985\tbest: 0.8463985 (700)\ttotal: 3m 47s\tremaining: 1m 36s\n800:\ttest: 0.8471608\tbest: 0.8471608 (800)\ttotal: 4m 19s\tremaining: 1m 4s\n900:\ttest: 0.8477252\tbest: 0.8477252 (898)\ttotal: 4m 50s\tremaining: 31.9s\n999:\ttest: 0.8482649\tbest: 0.8482649 (999)\ttotal: 5m 21s\tremaining: 0us\nbestTest = 0.848264873\nbestIteration = 999\nFeature #374 eliminated\nFeature #296 eliminated\nFeature #483 eliminated\nFeature #371 eliminated\nFeature #249 eliminated\nFeature #404 eliminated\nFeature #408 eliminated\nFeature #184 eliminated\nFeature #116 eliminated\nFeature #305 eliminated\nFeature #393 eliminated\nFeature #182 eliminated\nFeature #315 eliminated\nFeature #164 eliminated\nFeature #244 eliminated\nFeature #454 eliminated\nFeature #54 eliminated\nFeature #407 eliminated\nFeature #475 eliminated\nFeature #72 eliminated\nFeature #155 eliminated\nFeature #468 eliminated\nFeature #456 eliminated\nFeature #482 eliminated\nFeature #347 eliminated\nFeature #472 eliminated\nStep #8 out of 10\n",
          "output_type": "stream"
        },
        {
          "name": "stderr",
          "text": "CatBoost is using more CPU RAM (22.6GiB) than the limit (8.72GiB)\nCatBoost is using more CPU RAM (22.6GiB) than the limit (8.72GiB)\n",
          "output_type": "stream"
        },
        {
          "name": "stdout",
          "text": "0:\ttest: 0.6996131\tbest: 0.6996131 (0)\ttotal: 339ms\tremaining: 5m 38s\n100:\ttest: 0.8260026\tbest: 0.8260026 (100)\ttotal: 32.7s\tremaining: 4m 50s\n200:\ttest: 0.8358402\tbest: 0.8358402 (200)\ttotal: 1m 5s\tremaining: 4m 21s\n300:\ttest: 0.8402007\tbest: 0.8402007 (300)\ttotal: 1m 39s\tremaining: 3m 49s\n400:\ttest: 0.8425803\tbest: 0.8425803 (400)\ttotal: 2m 11s\tremaining: 3m 15s\n500:\ttest: 0.8441847\tbest: 0.8441847 (500)\ttotal: 2m 42s\tremaining: 2m 42s\n600:\ttest: 0.8452379\tbest: 0.8452379 (600)\ttotal: 3m 14s\tremaining: 2m 9s\n700:\ttest: 0.8461094\tbest: 0.8461094 (700)\ttotal: 3m 45s\tremaining: 1m 36s\n800:\ttest: 0.8469222\tbest: 0.8469222 (800)\ttotal: 4m 16s\tremaining: 1m 3s\n900:\ttest: 0.8475890\tbest: 0.8475897 (899)\ttotal: 4m 48s\tremaining: 31.7s\n999:\ttest: 0.8480877\tbest: 0.8480877 (999)\ttotal: 5m 19s\tremaining: 0us\nbestTest = 0.8480876684\nbestIteration = 999\nFeature #68 eliminated\nFeature #493 eliminated\nFeature #227 eliminated\nFeature #349 eliminated\nFeature #497 eliminated\nFeature #281 eliminated\nFeature #306 eliminated\nFeature #103 eliminated\nFeature #289 eliminated\nFeature #488 eliminated\nFeature #219 eliminated\nFeature #496 eliminated\nFeature #487 eliminated\nFeature #342 eliminated\nFeature #248 eliminated\nFeature #176 eliminated\nFeature #465 eliminated\nFeature #210 eliminated\nFeature #42 eliminated\nFeature #232 eliminated\nFeature #112 eliminated\nFeature #217 eliminated\nFeature #361 eliminated\nStep #9 out of 10\n",
          "output_type": "stream"
        },
        {
          "name": "stderr",
          "text": "CatBoost is using more CPU RAM (22.6GiB) than the limit (8.72GiB)\nCatBoost is using more CPU RAM (22.6GiB) than the limit (8.72GiB)\n",
          "output_type": "stream"
        },
        {
          "name": "stdout",
          "text": "0:\ttest: 0.6996131\tbest: 0.6996131 (0)\ttotal: 318ms\tremaining: 5m 17s\n100:\ttest: 0.8262105\tbest: 0.8262105 (100)\ttotal: 30.7s\tremaining: 4m 33s\n200:\ttest: 0.8357805\tbest: 0.8357805 (200)\ttotal: 1m 1s\tremaining: 4m 4s\n300:\ttest: 0.8400215\tbest: 0.8400215 (300)\ttotal: 1m 32s\tremaining: 3m 34s\n400:\ttest: 0.8424720\tbest: 0.8424720 (400)\ttotal: 2m 2s\tremaining: 3m 2s\n500:\ttest: 0.8441525\tbest: 0.8441525 (500)\ttotal: 2m 32s\tremaining: 2m 31s\n600:\ttest: 0.8452308\tbest: 0.8452308 (600)\ttotal: 3m 1s\tremaining: 2m\n700:\ttest: 0.8461706\tbest: 0.8461706 (700)\ttotal: 3m 30s\tremaining: 1m 29s\n800:\ttest: 0.8469747\tbest: 0.8469747 (800)\ttotal: 4m\tremaining: 59.6s\n900:\ttest: 0.8476729\tbest: 0.8476729 (900)\ttotal: 4m 29s\tremaining: 29.6s\n999:\ttest: 0.8481868\tbest: 0.8481868 (999)\ttotal: 4m 58s\tremaining: 0us\nbestTest = 0.8481867909\nbestIteration = 999\nFeature #127 eliminated\nFeature #348 eliminated\nFeature #230 eliminated\nFeature #343 eliminated\nFeature #447 eliminated\nFeature #28 eliminated\nFeature #310 eliminated\nFeature #273 eliminated\nFeature #260 eliminated\nFeature #199 eliminated\nFeature #74 eliminated\nFeature #61 eliminated\nFeature #288 eliminated\nFeature #442 eliminated\nFeature #189 eliminated\nFeature #262 eliminated\nFeature #256 eliminated\nFeature #275 eliminated\nFeature #429 eliminated\nFeature #235 eliminated\nFeature #417 eliminated\nStep #10 out of 10\n",
          "output_type": "stream"
        },
        {
          "name": "stderr",
          "text": "CatBoost is using more CPU RAM (22.6GiB) than the limit (8.72GiB)\nCatBoost is using more CPU RAM (22.6GiB) than the limit (8.72GiB)\n",
          "output_type": "stream"
        },
        {
          "name": "stdout",
          "text": "0:\ttest: 0.6996131\tbest: 0.6996131 (0)\ttotal: 323ms\tremaining: 5m 22s\n100:\ttest: 0.8264921\tbest: 0.8264921 (100)\ttotal: 30.4s\tremaining: 4m 31s\n200:\ttest: 0.8361848\tbest: 0.8361848 (200)\ttotal: 1m 1s\tremaining: 4m 4s\n300:\ttest: 0.8403938\tbest: 0.8403938 (300)\ttotal: 1m 32s\tremaining: 3m 34s\n400:\ttest: 0.8428808\tbest: 0.8428808 (400)\ttotal: 2m 2s\tremaining: 3m 3s\n500:\ttest: 0.8445229\tbest: 0.8445229 (500)\ttotal: 2m 32s\tremaining: 2m 31s\n600:\ttest: 0.8455910\tbest: 0.8455910 (600)\ttotal: 3m 2s\tremaining: 2m\n700:\ttest: 0.8464871\tbest: 0.8464871 (700)\ttotal: 3m 31s\tremaining: 1m 30s\n800:\ttest: 0.8473156\tbest: 0.8473156 (800)\ttotal: 4m\tremaining: 59.8s\n900:\ttest: 0.8479240\tbest: 0.8479251 (899)\ttotal: 4m 29s\tremaining: 29.7s\n999:\ttest: 0.8484308\tbest: 0.8484308 (999)\ttotal: 4m 59s\tremaining: 0us\nbestTest = 0.8484308124\nbestIteration = 999\nFeature #416 eliminated\nFeature #0 eliminated\nFeature #179 eliminated\nFeature #458 eliminated\nFeature #32 eliminated\nFeature #3 eliminated\nFeature #120 eliminated\nFeature #60 eliminated\nFeature #212 eliminated\nFeature #440 eliminated\nFeature #75 eliminated\nFeature #100 eliminated\nFeature #239 eliminated\nFeature #471 eliminated\nFeature #311 eliminated\nFeature #405 eliminated\nFeature #220 eliminated\nFeature #145 eliminated\nFeature #203 eliminated\nTrain final model\n",
          "output_type": "stream"
        },
        {
          "name": "stderr",
          "text": "CatBoost is using more CPU RAM (22.6GiB) than the limit (8.72GiB)\nCatBoost is using more CPU RAM (22.6GiB) than the limit (8.72GiB)\n",
          "output_type": "stream"
        },
        {
          "name": "stdout",
          "text": "0:\ttest: 0.6996131\tbest: 0.6996131 (0)\ttotal: 276ms\tremaining: 4m 35s\n100:\ttest: 0.8261715\tbest: 0.8261715 (100)\ttotal: 26.1s\tremaining: 3m 52s\n200:\ttest: 0.8357878\tbest: 0.8357878 (200)\ttotal: 52.9s\tremaining: 3m 30s\n300:\ttest: 0.8402117\tbest: 0.8402117 (300)\ttotal: 1m 19s\tremaining: 3m 4s\n400:\ttest: 0.8426878\tbest: 0.8426878 (400)\ttotal: 1m 45s\tremaining: 2m 37s\n500:\ttest: 0.8443968\tbest: 0.8443968 (500)\ttotal: 2m 11s\tremaining: 2m 10s\n600:\ttest: 0.8455461\tbest: 0.8455461 (600)\ttotal: 2m 36s\tremaining: 1m 43s\n700:\ttest: 0.8464294\tbest: 0.8464294 (700)\ttotal: 3m 1s\tremaining: 1m 17s\n800:\ttest: 0.8471937\tbest: 0.8471937 (800)\ttotal: 3m 27s\tremaining: 51.5s\n900:\ttest: 0.8478323\tbest: 0.8478337 (899)\ttotal: 3m 52s\tremaining: 25.6s\n999:\ttest: 0.8483779\tbest: 0.8483779 (999)\ttotal: 4m 18s\tremaining: 0us\nbestTest = 0.8483778536\nbestIteration = 999\n",
          "output_type": "stream"
        }
      ],
      "execution_count": null
    },
    {
      "cell_type": "code",
      "source": [
        "# Сохраняем отдельно категориальные и континуальные фичи в highlighted features\n",
        "features = {'cat_features': list(set(cat_features) & set(summary['selected_features_names'])),\n",
        "            'best_features': summary['selected_features_names']}\n",
        "json_object = json.dumps(features, indent=4)\n",
        "with open(\"features.json\", \"w\") as outfile:\n",
        "    outfile.write(json_object)"
      ],
      "metadata": {
        "trusted": true,
        "execution": {
          "iopub.status.busy": "2024-11-10T15:51:30.541773Z",
          "iopub.execute_input": "2024-11-10T15:51:30.542504Z",
          "iopub.status.idle": "2024-11-10T15:51:30.547546Z",
          "shell.execute_reply.started": "2024-11-10T15:51:30.542460Z",
          "shell.execute_reply": "2024-11-10T15:51:30.546455Z"
        },
        "id": "6-YUxo7Pw9-J"
      },
      "outputs": [],
      "execution_count": null
    },
    {
      "cell_type": "markdown",
      "source": [
        "### Делаем feature importance на всем датасете и на выделенных фичах"
      ],
      "metadata": {
        "id": "AuOs7JXdw9-J"
      }
    },
    {
      "cell_type": "code",
      "source": [
        "# Загружаем выделенные выше фичи\n",
        "with open('/kaggle/input/highlighted-features/features.json', 'r') as file:\n",
        "    hl_features = json.load(file)\n",
        "\n",
        "ct_features = hl_features['cat_features']\n",
        "hl_features = hl_features['best_features']"
      ],
      "metadata": {
        "trusted": true,
        "id": "Gg0DIge5w9-J"
      },
      "outputs": [],
      "execution_count": null
    },
    {
      "cell_type": "code",
      "source": [
        "# Функция для обучения CatBoostClassifier на всем датасете\n",
        "def test(features, cat_features):\n",
        "\n",
        "    # Выделяем категориальные признаки, фичи и таргеты\n",
        "    new_cat_features = list(set(cat_features) & set(features))\n",
        "    X = pd.read_csv(files[0], usecols=['target'] + features)\n",
        "    y = X['target']\n",
        "    X.drop(['target'], axis=1, inplace=True)\n",
        "\n",
        "    for i in range(1, len(files)):\n",
        "\n",
        "        # Добавляем данные из файла в общий DataFrame\n",
        "        new_X = pd.read_csv(files[i], usecols=['target'] + features)\n",
        "        new_y = new_X['target']\n",
        "        new_X.drop(['target'], axis=1, inplace=True)\n",
        "        X = pd.concat((X, new_X)).reset_index(drop=True)\n",
        "        y = pd.concat((y, new_y)).reset_index(drop=True)\n",
        "        # Удаляем для очистки памяти\n",
        "        del new_X, new_y\n",
        "\n",
        "    # Переопределяем тип категориальных фичей на int, производим train test split и удаляем для очистки памяти\n",
        "    X[new_cat_features] = X[new_cat_features].astype('int', copy=False)\n",
        "    print('получилость скачать')\n",
        "    X_train, X_test, y_train, y_test = train_test_split(X, y, random_state=42, stratify=y)\n",
        "    del X, y\n",
        "    print('получилось сплитануть')\n",
        "\n",
        "    classes = np.array([0, 1])\n",
        "    weights = compute_class_weight(class_weight='balanced', classes=classes, y=y_train)\n",
        "    class_weights = dict(zip(classes, weights))\n",
        "\n",
        "    # Обучаем CatBoostClassifier\n",
        "    if len(new_cat_features) == 0:\n",
        "        clf = CatBoostClassifier(task_type='GPU', verbose=100, random_state=42, class_weights=class_weights)\n",
        "    else:\n",
        "        clf = CatBoostClassifier(task_type='GPU', verbose=100, random_state=42, class_weights=class_weights, cat_features=new_cat_features)\n",
        "    clf.fit(X_train, y_train)\n",
        "\n",
        "    del X_train, X_test, y_train, y_test\n",
        "\n",
        "    return clf"
      ],
      "metadata": {
        "trusted": true,
        "execution": {
          "iopub.status.busy": "2024-11-10T17:54:14.241887Z",
          "iopub.execute_input": "2024-11-10T17:54:14.242437Z",
          "iopub.status.idle": "2024-11-10T17:54:14.258590Z",
          "shell.execute_reply.started": "2024-11-10T17:54:14.242367Z",
          "shell.execute_reply": "2024-11-10T17:54:14.257346Z"
        },
        "id": "6ZE2XB3yw9-K"
      },
      "outputs": [],
      "execution_count": null
    },
    {
      "cell_type": "code",
      "source": [
        "# Обучаем модель\n",
        "nice_model = test(hl_features, ct_features)"
      ],
      "metadata": {
        "trusted": true,
        "id": "q6fBaChhw9-K"
      },
      "outputs": [],
      "execution_count": null
    },
    {
      "cell_type": "code",
      "source": [
        "# Сохраняем модель\n",
        "nice_model.save_model('nice_model')"
      ],
      "metadata": {
        "trusted": true,
        "id": "ZmL_7FL7w9-K"
      },
      "outputs": [],
      "execution_count": null
    },
    {
      "cell_type": "code",
      "source": [
        "# Делаем feature importance\n",
        "nice_nice_model = CatBoostClassifier()\n",
        "nice_nice_model.load_model('/kaggle/input/nice_nice_model/other/default/1/nice_model')\n",
        "ft_imp = nice_nice_model.get_feature_importance(prettified=True)['Feature Id']\n",
        "nice_nice_features = ft_imp[:172]  # путем гениального псевдо-тернарного поиска выбрали такое количество"
      ],
      "metadata": {
        "trusted": true,
        "id": "mfFjWkjlw9-L"
      },
      "outputs": [],
      "execution_count": null
    },
    {
      "cell_type": "code",
      "source": [
        "# Сохраняем features\n",
        "nice_nice_features_dct = {'features': nice_nice_features}\n",
        "nice_nice_features_json_object = json.dumps(nice_nice_features_dct, indent=4)\n",
        "with open('ultra_mega_last_features.json', 'w') as file:\n",
        "    file.write(nice_nice_features_json_object)"
      ],
      "metadata": {
        "trusted": true,
        "id": "fgo3ZOO0w9-L"
      },
      "outputs": [],
      "execution_count": null
    }
  ]
}